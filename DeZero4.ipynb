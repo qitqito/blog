{
 "cells": [
  {
   "cell_type": "markdown",
   "metadata": {},
   "source": [
    "## 「[ゼロから作るDeep Learning ❸――フレームワーク編](https://www.oreilly.co.jp/books/9784873119069/)」を元にPythonの基礎解説 第4ステージ\n",
    "この記事では、前回に続けてPythonの基礎解説と雛形の作成を行なっていきます。DeZeroやNumPyについては詳細な説明は行いません。\n",
    "\n",
    "### Pythonの参考文献\n",
    " - [yield の使い方 - LIFE WITH PYTHON](https://www.lifewithpython.com/2018/05/python-yield.html)\n",
    " - [組み込み関数`isinstance` - Python ドキュメント](https://docs.python.org/ja/3/library/functions.html#isinstance)\n",
    " - [3. データモデル`object.__setattr__(self, name, value)` - Python ドキュメント](https://docs.python.org/ja/3/reference/datamodel.html#object.__setattr__)\n",
    " - [3. データモデル`object.__getitem__(self, key)` - Python ドキュメント](https://docs.python.org/ja/3/reference/datamodel.html#object.__getitem__)\n",
    " - [numpy.random — NumPy Manual](https://numpy.org/doc/stable/reference/random/index.html)\n",
    "   - [numpy.random.rand — NumPy Manual](https://numpy.org/doc/stable/reference/random/generated/numpy.random.rand.html)：一様分布の乱数生成\n",
    "   - [numpy.random.randn — NumPy Manual](https://numpy.org/doc/stable/reference/random/generated/numpy.random.randn.html)：正規分布の乱数生成\n",
    "   - [numpy.random.seed — NumPy Manual](https://numpy.org/doc/stable/reference/random/generated/numpy.random.seed.html)\n",
    "   - [numpy.random.permutation — NumPy Manual](https://numpy.org/doc/stable/reference/random/generated/numpy.random.permutation.html)\n",
    " - [numpy.transpose — NumPy Manual](https://numpy.org/doc/stable/reference/generated/numpy.transpose.html), [numpy.ndarray.transpose](https://numpy.org/doc/stable/reference/generated/numpy.ndarray.transpose.html)\n",
    " - [numpy.sum — NumPy Manual](https://numpy.org/doc/stable/reference/generated/numpy.sum.html), [numpy.ndarray.sum](https://numpy.org/doc/stable/reference/generated/numpy.ndarray.sum.html)\n",
    " - [numpy.broadcast_to — NumPy Manual](https://numpy.org/doc/stable/reference/generated/numpy.broadcast_to.html)\n",
    " - [numpy.dot — NumPy Manual](https://numpy.org/doc/stable/reference/generated/numpy.dot.html), [numpy.ndarray.dot](https://numpy.org/doc/stable/reference/generated/numpy.ndarray.dot.html)\n",
    " - [numpy.clip — NumPy Manual](https://numpy.org/doc/stable/reference/generated/numpy.clip.html), [numpy.ndarray.clip](https://numpy.org/doc/stable/reference/generated/numpy.ndarray.clip.html)"
   ]
  },
  {
   "cell_type": "markdown",
   "metadata": {},
   "source": [
    "## 「第4ステージ ニューラルネットワークを作る」より\n",
    "「第4ステージ」では、DeZeroをニューラルネットワークに向けて、テンソル（多次元配列）を使って計算できるように拡張され、全結合層・活性化関数の一つのシグモイド関数が提供され、モデルやOptimizerを表すクラスが提供され、クラス分類の確率を表すソフトマックス関数とその損失関数であるクロスエントロピー誤差も提供される。\n",
    "\n",
    "### 「ステップ37 テンソルを扱う」\n",
    "### 「ステップ38 形状を変える関数」より\n",
    " - NumPyの`np.reshape(x, shape)`, `x.reshape(shape)`で、`ndarray`インスタンス`x`を`shape`の形状へと変換する。`shape`はタプル`(1, 2)`でもリスト`[1, 2]`でも展開した形式`1, 2`でも構わない。\n",
    " - 組み込み関数`isinstance(object, classinfo)`の`classinfo`は複数のクラス情報のタプルでも構わない。\n",
    "   - 参考：[組み込み関数isinstance - Python ドキュメント](https://docs.python.org/ja/3/library/functions.html#isinstance)\n",
    " - NumPyの`transpose`関数は多次元配列の0から始まるインデックスで表される軸をインデックスのタプルで指定して入れ替える。インデックスのタプルを指定しなければ軸のインデックスが逆順になる。これは行列の場合は転置行列となる。\n",
    "   - 参考：[numpy.transpose — NumPy Manual](https://numpy.org/doc/stable/reference/generated/numpy.transpose.html)"
   ]
  },
  {
   "cell_type": "code",
   "execution_count": 1,
   "metadata": {},
   "outputs": [
    {
     "name": "stdout",
     "output_type": "stream",
     "text": [
      "[1 2 3 4 5 6]\n",
      "True\n",
      "True\n",
      "False\n",
      "[[1 4]\n",
      " [2 5]\n",
      " [3 6]]\n",
      "(2, 1, 3)\n"
     ]
    }
   ],
   "source": [
    "import numpy as np\n",
    "\n",
    "x = np.array([[1, 2, 3], [4, 5, 6]])\n",
    "print(x.reshape((6,))) # np.reshape(x, (6,))と同じ\n",
    "print(isinstance([1], (tuple, list)))\n",
    "print(isinstance((1,), (tuple, list)))\n",
    "print(isinstance(1, (tuple, list)))\n",
    "x = np.array([[1, 2, 3], [4, 5, 6]])\n",
    "print(np.transpose(x)) # x.transpose()、x.transpose((1, 0))と同じ\n",
    "x = np.ones((1, 2, 3))\n",
    "print(np.transpose(x, (1, 0, 2)).shape) #x.transpose(1, 0, 2).shapeと同じ"
   ]
  },
  {
   "cell_type": "markdown",
   "metadata": {},
   "source": [
    "### 「ステップ39 和を求める関数」より\n",
    " - NumPyの`np.sum`関数は、引数`axis`に多次元配列の軸のインデックスを指定しなければ（または`axis=None`を指定）和のスカラーを得る。引数`axis`に軸のインデックスを指定すればその軸に和を取り、軸のインデックスのタプルを指定すればその複数の軸に和を取る。引数`keepdims`に`True`を指定すれば、同じ次元数を保つ。\n",
    "   - 参考：[numpy.sum — NumPy Manual](https://numpy.org/doc/stable/reference/generated/numpy.sum.html)"
   ]
  },
  {
   "cell_type": "code",
   "execution_count": 2,
   "metadata": {},
   "outputs": [
    {
     "name": "stdout",
     "output_type": "stream",
     "text": [
      "21\n",
      "[5 7 9]\n",
      "[ 6 15]\n",
      "[[21]]\n"
     ]
    }
   ],
   "source": [
    "import numpy as np\n",
    "\n",
    "x = np.array([[1, 2, 3], [4, 5, 6]])\n",
    "print(np.sum(x)) # x.sum()と同じ\n",
    "print(x.sum(axis=0)) # x.sum(axis=(0,))と同じ\n",
    "print(x.sum(axis=1)) # x.sum(axis=(1,))と同じ\n",
    "print(x.sum(keepdims=True)) # shape(1, 1)の行列"
   ]
  },
  {
   "cell_type": "markdown",
   "metadata": {},
   "source": [
    "### 「ステップ40 ブロードキャストを行う関数」より\n",
    " - NumPyの`np.broadcast_to(x, shape)`関数は、`ndarray`インスタンス`x`の要素を`shape`形状に複製する。これをブロードキャストと呼ぶ。ブロードキャストは`ndarray`の演算時に暗黙的に行われることもある。\n",
    "   - 参考：[numpy.broadcast_to — NumPy Manual](https://numpy.org/doc/stable/reference/generated/numpy.broadcast_to.html)"
   ]
  },
  {
   "cell_type": "code",
   "execution_count": 3,
   "metadata": {},
   "outputs": [
    {
     "name": "stdout",
     "output_type": "stream",
     "text": [
      "[[1 2 3]\n",
      " [1 2 3]]\n",
      "[11 12 13]\n",
      "[11 12 13]\n"
     ]
    }
   ],
   "source": [
    "import numpy as np\n",
    "\n",
    "x = np.array([1, 2, 3])\n",
    "print(np.broadcast_to(x, (2, 3)))\n",
    "\n",
    "y = np.array([10])\n",
    "print(x + y)\n",
    "print(x + np.broadcast_to(y, (3))) #暗黙的ブロードキャスト"
   ]
  },
  {
   "cell_type": "markdown",
   "metadata": {},
   "source": [
    "### 「ステップ41 行列の積」より\n",
    " - `ndarray`のベクトルの内積と行列の積は共にNumPyの`np.dot`関数で行う。ベクトルの内積は自動的に内積を行えるようベクトルが転置され、行列の積は行列が自動的に転置されることはなく、積を行える`shape`の行列を`np.dot`関数の引数に渡さなければならない。\n",
    "   - 参考：[numpy.dot — NumPy Manual](https://numpy.org/doc/stable/reference/generated/numpy.dot.html)"
   ]
  },
  {
   "cell_type": "code",
   "execution_count": 4,
   "metadata": {},
   "outputs": [
    {
     "name": "stdout",
     "output_type": "stream",
     "text": [
      "[[14 32]\n",
      " [32 77]]\n",
      "[[17 22 27]\n",
      " [22 29 36]\n",
      " [27 36 45]]\n",
      "32\n",
      "32\n"
     ]
    }
   ],
   "source": [
    "import numpy as np\n",
    "\n",
    "A = np.array([[1, 2, 3], [4, 5, 6]])\n",
    "B = np.array([[1, 2, 3], [4, 5, 6]])\n",
    "print(np.dot(A, B.transpose()))\n",
    "print(np.dot(A.transpose(), B))\n",
    "\n",
    "x = np.array([1, 2, 3])\n",
    "y = np.array([4, 5, 6])\n",
    "print(np.dot(x, y))\n",
    "print(np.dot(x.transpose(), y))"
   ]
  },
  {
   "cell_type": "markdown",
   "metadata": {},
   "source": [
    "### 「ステップ42 線形回帰」より\n",
    " - DeZeroの平均2乗誤差クラス・関数`MeanSquaredError`, `mean_squared_error`の実装が解説されている。\n",
    " - 機械学習に使用するデータセットで乱数を使う場合は再現性を考慮して、乱数のシードを固定してデータを生成することが多い。"
   ]
  },
  {
   "cell_type": "code",
   "execution_count": 5,
   "metadata": {},
   "outputs": [
    {
     "name": "stdout",
     "output_type": "stream",
     "text": [
      "[[0.5488135 ]\n",
      " [0.71518937]\n",
      " [0.60276338]\n",
      " [0.54488318]\n",
      " [0.4236548 ]]\n",
      "[[0.64589411]\n",
      " [0.43758721]\n",
      " [0.891773  ]\n",
      " [0.96366276]\n",
      " [0.38344152]]\n",
      "[[0.5488135 ]\n",
      " [0.71518937]\n",
      " [0.60276338]\n",
      " [0.54488318]\n",
      " [0.4236548 ]\n",
      " [0.64589411]\n",
      " [0.43758721]\n",
      " [0.891773  ]\n",
      " [0.96366276]\n",
      " [0.38344152]]\n"
     ]
    }
   ],
   "source": [
    "import numpy as np\n",
    "\n",
    "np.random.seed(0)\n",
    "print(np.random.rand(5, 1))\n",
    "print(np.random.rand(5, 1))\n",
    "np.random.seed(0)\n",
    "print(np.random.rand(10, 1))"
   ]
  },
  {
   "cell_type": "markdown",
   "metadata": {},
   "source": [
    "### 「ステップ43 ニューラルネットワーク」より\n",
    " - DeZeroの全結合層に対応する線形変換`linear`関数の実装の解説。\n",
    " - 非線形な変換である活性化関数の一つであるシグモイド関数$y=\\frac{1}{1+\\exp\\left(-x\\right)}$の実装。\n",
    " - シグモイド関数の微分の導出は『ゼロから作るDeep Learning』の「5.5.2 Sigmoidレイヤ」を参照している。\n",
    " - 重みの初期値をランダムに設定する必要性の理由は『ゼロから作る Deep Learning』の「6.2.1 重みの初期値を 0 にする？」を参照している。"
   ]
  },
  {
   "cell_type": "markdown",
   "metadata": {},
   "source": [
    "### 「ステップ44 パラメータをまとめるレイヤ」より\n",
    " - DeZeroの`Parameter`クラス：重み・バイアスなどのパラメータを変数Variableと区別するクラス。\n",
    " - DeZeroの`Layer`クラス：パラメータを保持し変換するクラス。\n",
    " - DeZeroの`Linear`クラス：線形変換を行うレイヤのクラス。ユーザは出力サイズのみ指定し入力サイズは伝搬時に動的に決められる。\n",
    " - 特殊メソッド`__setattr___(self, name, value) `はインスタンス変数代入時に、インスタンス変数名`name`、値`value`が渡されて呼び出される。オーバーライドすることでオリジナルの処理を実装できる。\n",
    "   - 参考：[3. データモデル`object.__setattr__(self, name, value)` - Python ドキュメント](https://docs.python.org/ja/3/reference/datamodel.html#object.__setattr__)\n",
    " - インスタンス変数`__dict__`に、すべてのインスタンス変数がディクショナリ形式で格納されている。"
   ]
  },
  {
   "cell_type": "code",
   "execution_count": 6,
   "metadata": {},
   "outputs": [
    {
     "name": "stdout",
     "output_type": "stream",
     "text": [
      "velocity is 10\n",
      "velocity is 100\n",
      "{'velocity': 100}\n"
     ]
    }
   ],
   "source": [
    "class Vehicle:\n",
    "    def __init__(self, velocity):\n",
    "        self.velocity = velocity\n",
    "    \n",
    "    def run(self):\n",
    "        raise NotImplementedError()\n",
    "\n",
    "    def __setattr__(self, name, value):\n",
    "        super().__setattr__(name, value) # これが無いとプロパティに代入されない\n",
    "        message = \"{} is {}\"\n",
    "        print(message.format(name, value))\n",
    "\n",
    "class Car(Vehicle):\n",
    "    @property\n",
    "    def run(self):\n",
    "        print('Run at {}.'.format(self.velocity))\n",
    "\n",
    "c = Car(10) # （__init__で）__setattr__が呼び出される。\n",
    "c.velocity = 100 # __setattr__が呼び出される。\n",
    "print(c.__dict__)"
   ]
  },
  {
   "cell_type": "markdown",
   "metadata": {},
   "source": [
    "### 「ステップ45 レイヤをまとめるレイヤ」より\n",
    " - `yield`を使った関数はジェネレータと呼ばれ、返り値はジェネレータイテレータと呼ばれるイテレータであり、呼ばれる度に一つずつ値を返す。ジェネレータから別の新しいジェネレータを作るには、`yield from`を使う。\n",
    "   - なお、ステップ50でイテレータについて解説される。\n",
    "   - 参考：[yield の使い方 - LIFE WITH PYTHON](https://www.lifewithpython.com/2018/05/python-yield.html)\n",
    " - DeZeroの`Layer`クラスを別の`Layer`も保持する入れ子構造に拡張。`Layer`のパラメータにアクセスする`params`メソッドはジェネレータとして実装されている。\n",
    " - DeZeroの`Layer`クラスを継承した`Model`クラスには、計算グラフの可視化メソッド`plot`も実装されており、ニューラルネットワークのモデルを表す。開発者はModelクラスを継承したクラスで個別のネットワークを作成する。\n",
    " - DeZeroでは、`Model`クラスを継承した全結合層のニューラルネットワークを表す`MLP`（Multi-Layer Perceptron）クラスが提供されている。"
   ]
  },
  {
   "cell_type": "code",
   "execution_count": 7,
   "metadata": {},
   "outputs": [
    {
     "name": "stdout",
     "output_type": "stream",
     "text": [
      "A\n",
      "B\n",
      "C\n",
      "['1', '2', '3']\n",
      "['A', 'B', 'C', '1', '2', '3']\n"
     ]
    }
   ],
   "source": [
    "def generator_1():\n",
    "    for n in 'ABC':\n",
    "        yield n\n",
    "\n",
    "def generator_2():\n",
    "    for n in '123':\n",
    "        yield n\n",
    "\n",
    "def generator_all():\n",
    "    yield from generator_1()\n",
    "    yield from generator_2()\n",
    "\n",
    "for i in generator_1():\n",
    "    print(i)\n",
    "print(list(generator_2()))\n",
    "print(list(generator_all()))"
   ]
  },
  {
   "cell_type": "markdown",
   "metadata": {},
   "source": [
    "### 「ステップ46 Optimizerによるパラメータ更新」より\n",
    " - DeZeroの指定したモデルのパラメータを最適化する基底クラス`Optimizer`。具体的な最適化手法は`Optimizer`クラスを継承して実装する。前処理も設定できる。\n",
    " - DeZeroでは、最適化手法SGD（Stochastic Gradient Descent、確率的勾配降下法）、Momentum、AdaGrad、AdaDelta、Adamのクラスを提供。\n",
    " - AdaGrad、AdaDelta、Adamなどの最適化手法については『ゼロから作る Deep Learning』の「6.1 パラメータの更新」参照。"
   ]
  },
  {
   "cell_type": "markdown",
   "metadata": {},
   "source": [
    "### 「ステップ47 ソフトマックス関数と交差エントロピー誤差」より\n",
    " - Pythonでは、リストやタプルに対して、`x[1]`や`x[:, 1:4]`のように書くことで多次元配列の一部を抜き出すスライス操作が行える。\n",
    " - DeZeroでは、`Variable`の多次元配列から一部を抜き出す関数`get_item`を提供している。\n",
    " - Pythonの特殊メソッド`__getitem__`は、オブジェクトに角括弧でアクセスしたときの挙動を定義できる。\n",
    " - DeZeroでは、`Variable.__getitem__ = get_item`と設定して、`Variable`オブジェクトに角括弧のスライス操作を与えている。\n",
    "   - 参考：[3. データモデル`object.__getitem__(self, key)` - Python ドキュメント](https://docs.python.org/ja/3/reference/datamodel.html#object.__getitem__)"
   ]
  },
  {
   "cell_type": "code",
   "execution_count": 8,
   "metadata": {},
   "outputs": [
    {
     "name": "stdout",
     "output_type": "stream",
     "text": [
      "qit\n"
     ]
    }
   ],
   "source": [
    "class Vehicle:\n",
    "    def __init__(self, velocity, name):\n",
    "        self.velocity = velocity\n",
    "        self.name = name\n",
    "\n",
    "    def __getitem__(self, key):\n",
    "        return self.name[key]\n",
    "\n",
    "veh = Vehicle(10, \"qitqito\")\n",
    "print(veh[:3])"
   ]
  },
  {
   "cell_type": "markdown",
   "metadata": {},
   "source": [
    " - 分類のクラス数が$n$個の場合、$k\\left(1\\leq k\\leq n\\right)$番目の分類確率は、次式のソフトマックス関数で表される。\n",
    "   - $p_{k}=\\frac{\\exp\\left(y_{k}\\right)}{\\sum_{i=1}^{n}\\exp\\left(y_{i}\\right)}$、$y_k$：ソフトマックス関数への入力値\n",
    "   - ソフトマックス関数のより良い実装については、『ゼロから作るDeep Learning』の「3.5.2 ソフトマックス関数の実装上の注意」が参照されている。\n",
    " - 分類のクラス数が$n$個の場合、多値分類の損失関数は、交差エントロピー誤差$L=-\\sum_{k=1}^{n}t_{k}\\log p_{k}$で表される。ここで$p_k$はソフトマックス関数値であり、$t_k$は教師データの`k`次元目の値であり、正解クラスが`1`でその他は`0`となる**one-hot**ベクトルで与えられる。従って、和は実際には1項のみである。\n",
    " - 実装では、入力値`x`を`x_min`未満は`x_min`、x_max`を超える場合は`x_max`に置き換える`clip(x, x_min, x_max)`関数が利用されている。\n",
    "   - 参考：[numpy.clip — NumPy Manual](https://numpy.org/doc/stable/reference/generated/numpy.clip.html)"
   ]
  },
  {
   "cell_type": "code",
   "execution_count": 9,
   "metadata": {},
   "outputs": [
    {
     "name": "stdout",
     "output_type": "stream",
     "text": [
      "[4 5 6]\n",
      "[[1 2]\n",
      " [4 5]]\n",
      "1e-15\n"
     ]
    }
   ],
   "source": [
    "import numpy as np\n",
    "\n",
    "M = np.array([[1, 2, 3], [4, 5, 6]])\n",
    "print(M[1])\n",
    "print(M[:, :2])\n",
    "print(np.clip(0, 1e-15, 1.0))"
   ]
  },
  {
   "cell_type": "markdown",
   "metadata": {},
   "source": [
    "### 「ステップ48 多値分類」より\n",
    " - データセットのインデックスのシャッフルにはNumPyの`np.random.permutation`関数を使う。\n",
    "   - 参考：[numpy.random.permutation — NumPy Manual](https://numpy.org/doc/stable/reference/random/generated/numpy.random.permutation.html)"
   ]
  },
  {
   "cell_type": "code",
   "execution_count": 10,
   "metadata": {},
   "outputs": [
    {
     "name": "stdout",
     "output_type": "stream",
     "text": [
      "[5 2 3 4 1 0 9 8 7 6]\n"
     ]
    }
   ],
   "source": [
    "import numpy as np\n",
    "\n",
    "print(np.random.permutation(10))"
   ]
  },
  {
   "cell_type": "markdown",
   "metadata": {},
   "source": [
    "### 「ステップ49 Datasetクラスと前処理」より\n",
    " - DeZeroでは前処理の仕組みがあり巨大データセットにも利用できる`Dataset`基底クラスを提供する。`Dataset`クラスは特殊メソッド`__getitem__`、`__len__`（それぞれステップ47、19で解説）を実装している。\n"
   ]
  },
  {
   "cell_type": "markdown",
   "metadata": {},
   "source": [
    "### 「ステップ50 ミニバッチを取り出すDataLoader」より\n",
    " - DeZeroの`Dataset`クラスからミニバッチ作成やデータセットのシャッフルを行う`Dataloader`クラスを実装。\n",
    " - Pythonのイテレータは、リストやタプルなど複数の要素を持つデータ型に対して、順番にデータを取り出す機能を提供する。`iter`関数によりリストをイテレータに変換する。`next`関数によりイテレータに対して順にデータを取り出す。次の要素が存在しない場合は`StopIteration`例外が発生する。"
   ]
  },
  {
   "cell_type": "code",
   "execution_count": 11,
   "metadata": {},
   "outputs": [
    {
     "name": "stdout",
     "output_type": "stream",
     "text": [
      "1\n",
      "2\n",
      "3\n"
     ]
    },
    {
     "ename": "StopIteration",
     "evalue": "",
     "output_type": "error",
     "traceback": [
      "\u001b[0;31m---------------------------------------------------------------------------\u001b[0m",
      "\u001b[0;31mStopIteration\u001b[0m                             Traceback (most recent call last)",
      "\u001b[0;32m<ipython-input-11-a9d809a8f17c>\u001b[0m in \u001b[0;36m<module>\u001b[0;34m\u001b[0m\n\u001b[1;32m      4\u001b[0m \u001b[0mprint\u001b[0m\u001b[0;34m(\u001b[0m\u001b[0mnext\u001b[0m\u001b[0;34m(\u001b[0m\u001b[0mx\u001b[0m\u001b[0;34m)\u001b[0m\u001b[0;34m)\u001b[0m\u001b[0;34m\u001b[0m\u001b[0;34m\u001b[0m\u001b[0m\n\u001b[1;32m      5\u001b[0m \u001b[0mprint\u001b[0m\u001b[0;34m(\u001b[0m\u001b[0mnext\u001b[0m\u001b[0;34m(\u001b[0m\u001b[0mx\u001b[0m\u001b[0;34m)\u001b[0m\u001b[0;34m)\u001b[0m\u001b[0;34m\u001b[0m\u001b[0;34m\u001b[0m\u001b[0m\n\u001b[0;32m----> 6\u001b[0;31m \u001b[0mprint\u001b[0m\u001b[0;34m(\u001b[0m\u001b[0mnext\u001b[0m\u001b[0;34m(\u001b[0m\u001b[0mx\u001b[0m\u001b[0;34m)\u001b[0m\u001b[0;34m)\u001b[0m \u001b[0;31m# StopIteration例外発生\u001b[0m\u001b[0;34m\u001b[0m\u001b[0;34m\u001b[0m\u001b[0m\n\u001b[0m",
      "\u001b[0;31mStopIteration\u001b[0m: "
     ]
    }
   ],
   "source": [
    "t = [1, 2, 3]\n",
    "x = iter(t) # listからイテレータ生成\n",
    "print(next(x))\n",
    "print(next(x))\n",
    "print(next(x))\n",
    "print(next(x)) # StopIteration例外発生"
   ]
  },
  {
   "cell_type": "code",
   "execution_count": 12,
   "metadata": {},
   "outputs": [
    {
     "name": "stdout",
     "output_type": "stream",
     "text": [
      "1\n",
      "2\n",
      "3\n"
     ]
    }
   ],
   "source": [
    "t = [1, 2, 3]\n",
    "for x in t: # リストtはイテレータに変換される。StopIteration発生でfor文終了。\n",
    "    print(x)"
   ]
  },
  {
   "cell_type": "markdown",
   "metadata": {},
   "source": [
    " - Pythonのイテレータは、自分自身（`self`）を返す`__iter__`特殊メソッド、次の要素を返す`__next__`特殊メソッド（返す要素がなければ`raise StopIteration()`）を実装することで自作できる。"
   ]
  },
  {
   "cell_type": "code",
   "execution_count": 13,
   "metadata": {},
   "outputs": [
    {
     "name": "stdout",
     "output_type": "stream",
     "text": [
      "101\n",
      "102\n",
      "103\n",
      "104\n",
      "105\n",
      "106\n",
      "107\n",
      "108\n",
      "109\n",
      "110\n"
     ]
    }
   ],
   "source": [
    "class Vehicle:\n",
    "    def __init__(self, velocity, name):\n",
    "        self.velocity = velocity\n",
    "        self.name = name\n",
    "\n",
    "    def __repr__(self):\n",
    "        return 'Velocity is {}.'.format(self.velocity)\n",
    "\n",
    "    def __iter__(self):\n",
    "        return self\n",
    "\n",
    "    def __next__(self):\n",
    "        if self.velocity >= 110:\n",
    "            raise StopIteration()\n",
    "        self.velocity += 1\n",
    "        return self.velocity\n",
    "\n",
    "class Car(Vehicle):\n",
    "    @property\n",
    "    def run(self):\n",
    "        print('Run at {}.'.format(self.velocity))\n",
    "\n",
    "c = Car(100, \"TES\")\n",
    "for i in c:\n",
    "    print(i)"
   ]
  },
  {
   "cell_type": "markdown",
   "metadata": {},
   "source": [
    " - `numpy.argmax`, `numpy.ndarray.argmax`は、最大値のインデックスを返す。`axis`を指定すれば、軸に沿った最大値のインデックスを返す。\n",
    "   - 参考：[numpy.argmax — NumPy Manual](https://numpy.org/doc/stable/reference/generated/numpy.argmax.html), [numpy.ndarray.argmax — NumPy Manual](https://numpy.org/doc/stable/reference/generated/numpy.ndarray.argmax.html)\n",
    " - `numpy.ndarray`配列を条件式にすれば、要素毎の真偽により`True, False`の配列が得られる。\n",
    " - `numpy.mean`で平均値を求める。\n",
    "   - 参考：[numpy.mean — NumPy Manual](https://numpy.org/doc/stable/reference/generated/numpy.mean.html)"
   ]
  },
  {
   "cell_type": "code",
   "execution_count": 14,
   "metadata": {},
   "outputs": [
    {
     "name": "stdout",
     "output_type": "stream",
     "text": [
      "[[ 0  1  2  3]\n",
      " [ 4  5  6  7]\n",
      " [ 8  9 10 11]]\n",
      "[[False False False False]\n",
      " [False False  True  True]\n",
      " [ True  True  True  True]]\n",
      "0.5\n",
      "11\n",
      "[2 2 2 2]\n",
      "[3 3 3]\n"
     ]
    }
   ],
   "source": [
    "import numpy as np\n",
    "\n",
    "ar = np.array(range(12)).reshape(3,4)\n",
    "print(ar)\n",
    "ar_6 = (ar >= 6)\n",
    "print(ar_6)\n",
    "print(ar_6.mean())\n",
    "print(ar.argmax())\n",
    "print(ar.argmax(axis=0))\n",
    "print(ar.argmax(axis=1))"
   ]
  },
  {
   "cell_type": "markdown",
   "metadata": {},
   "source": [
    "### 「ステップ51 MNISTの学習」より\n",
    " - DeZeroによるMNISTのソースが掲載されており、全結合層２層で86%強の精度、全結合層３層で活性化関数をReLUにして最適化手法をSGDからAdamに変えると98%の精度が得られる。\n",
    "   - 参考：[deep-learning-from-scratch-3/examples/mnist.py](https://github.com/oreilly-japan/deep-learning-from-scratch-3/blob/master/examples/mnist.py)\n",
    "   - 参考：[pytorch/examples/mnist/main.py](https://github.com/pytorch/examples/blob/master/mnist/main.py)"
   ]
  }
 ],
 "metadata": {
  "kernelspec": {
   "display_name": "Python 3",
   "language": "python",
   "name": "python3"
  },
  "language_info": {
   "codemirror_mode": {
    "name": "ipython",
    "version": 3
   },
   "file_extension": ".py",
   "mimetype": "text/x-python",
   "name": "python",
   "nbconvert_exporter": "python",
   "pygments_lexer": "ipython3",
   "version": "3.7.7"
  }
 },
 "nbformat": 4,
 "nbformat_minor": 4
}
