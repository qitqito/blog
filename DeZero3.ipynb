{
 "cells": [
  {
   "cell_type": "markdown",
   "metadata": {},
   "source": [
    "## 「[ゼロから作るDeep Learning ❸――フレームワーク編](https://www.oreilly.co.jp/books/9784873119069/)」を元にPythonの基礎解説3\n",
    "この記事では、前回に続けてPythonの基礎解説と雛形の作成を行なっていきます。DeZeroやNumPyについては詳しい説明は行いません。\n",
    "\n",
    "### Pythonの参考文献\n",
    " - [Graphviz](http://www.graphviz.org/)\n",
    "   - グラフ可視化ツール\n",
    " - [DOT言語 - Wikipedia](https://ja.wikipedia.org/wiki/DOT%E8%A8%80%E8%AA%9E)\n",
    " - [subprocess --- サブプロセス管理 - Python ドキュメント](https://docs.python.org/ja/3/library/subprocess.html)\n",
    " - [numpy.linspace — NumPy Manual](https://numpy.org/doc/stable/reference/generated/numpy.linspace.html)\n"
   ]
  },
  {
   "cell_type": "markdown",
   "metadata": {},
   "source": [
    "## 「第3ステージ 高階微分を実現する」より\n",
    "「第3ステージ」で、DeZeroは、逆伝播の改良により自動で高階微分を行う機能が実装されます。\n",
    "\n",
    "勾配降下法と２階微分を用いるニュートン法による最適化の解説・実装が行われます。\n",
    "\n",
    "### 「ステップ25 計算グラフの可視化（1）」より\n",
    " - DeZeroは計算グラフをDOT言語で表現し、それを[Graphviz](http://www.graphviz.org/)によりグラフ画像として出力できる。変数はオレンジ色の楕円、関数は水色の四角で表される。\n",
    " - [Graphviz](http://www.graphviz.org/)は、Windows/macOS/Linuxで利用でき、次のようなコマンドでインストールできる。\n",
    "\n",
    "```bash\n",
    "$ sudo apt install graphviz # Ubuntuの場合\n",
    "$ brew install graphviz # macOSの場合\n",
    "$ conda install python-graphviz # Anaconda環境の場合\n",
    "```"
   ]
  },
  {
   "cell_type": "markdown",
   "metadata": {},
   "source": [
    "### 「ステップ26 計算グラフの可視化（2）」より\n",
    " - `id`関数により、オブジェクトから一意のIDを得られる。DeZeroで変数や関数をDOT言語で出力する際のノードIDに利用している。\n",
    " - `format`関数は、文字列中に含まれる`{}`を引数に与えた文字列や整数などに置き換える。\n",
    " - `subprocess.run`関数で外部プログラムを呼び出せる。"
   ]
  },
  {
   "cell_type": "code",
   "execution_count": 1,
   "metadata": {},
   "outputs": [
    {
     "name": "stdout",
     "output_type": "stream",
     "text": [
      "My ID is 140402061251568.\n"
     ]
    }
   ],
   "source": [
    "message = \"My ID is {}.\"\n",
    "print(message.format(id(message)))"
   ]
  },
  {
   "cell_type": "markdown",
   "metadata": {},
   "source": [
    "### 「ステップ27 テイラー展開の微分」\n",
    "### 「ステップ28 関数の最適化」\n",
    "### 「ステップ29 ニュートン法を用いた最適化（手計算）」\n",
    "### 「ステップ30 高階微分（準備編）」\n",
    "### 「ステップ31 高階微分（理論編）」\n",
    "### 「ステップ32 高階微分（実装編）」\n",
    "### 「ステップ33 ニュートン法を使った最適化（自動計算）」\n",
    "### 「ステップ34 sin関数の高階微分」より\n",
    " - `numpy.linspace(start, stop, num)`により`start`から`stop`までを`num`個の等間隔にした配列が得られる。\n",
    " - 参考：[numpy.linspace — NumPy Manual](https://numpy.org/doc/stable/reference/generated/numpy.linspace.html)\n",
    " - `enumerate`関数で、リストなどのイテラブルオブジェクトのインデックス番号、要素を取得する。"
   ]
  },
  {
   "cell_type": "code",
   "execution_count": 2,
   "metadata": {},
   "outputs": [
    {
     "name": "stdout",
     "output_type": "stream",
     "text": [
      "[-5. -4. -3. -2. -1.  0.  1.  2.  3.  4.  5.]\n",
      "0 A\n",
      "1 B\n",
      "2 C\n"
     ]
    }
   ],
   "source": [
    "import numpy as np\n",
    "print(np.linspace(-5, 5, 11))\n",
    "\n",
    "l = ['A', 'B', 'C']\n",
    "for i, alp in enumerate(l):\n",
    "    print(i, alp)"
   ]
  },
  {
   "cell_type": "markdown",
   "metadata": {},
   "source": [
    "### 「ステップ35 高階微分の計算グラフ」\n",
    "### 「ステップ36 高階微分以外の用途」\n",
    "Pythonの基礎については特になし。"
   ]
  },
  {
   "cell_type": "code",
   "execution_count": null,
   "metadata": {},
   "outputs": [],
   "source": []
  }
 ],
 "metadata": {
  "kernelspec": {
   "display_name": "Python 3",
   "language": "python",
   "name": "python3"
  },
  "language_info": {
   "codemirror_mode": {
    "name": "ipython",
    "version": 3
   },
   "file_extension": ".py",
   "mimetype": "text/x-python",
   "name": "python",
   "nbconvert_exporter": "python",
   "pygments_lexer": "ipython3",
   "version": "3.7.7"
  }
 },
 "nbformat": 4,
 "nbformat_minor": 4
}
