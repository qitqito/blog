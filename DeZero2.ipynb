{
 "cells": [
  {
   "cell_type": "markdown",
   "metadata": {},
   "source": [
    "## 「[ゼロから作るDeep Learning ❸――フレームワーク編](https://www.oreilly.co.jp/books/9784873119069/)」を元にPythonの基礎解説2\n",
    "この記事では、前回に続けてPythonの基礎解説と雛形の作成を行なっていきます。DeZeroやNumPyについては詳しい説明は行いません。\n",
    "\n",
    "### Pythonの参考文献\n",
    " - [Pythonのlambda（ラムダ式、無名関数）の使い方 | note.nkmk.me](https://note.nkmk.me/python-lambda-usage/)\n",
    " - 外部モジュール[memory-profiler](https://pypi.org/project/memory-profiler/)\n",
    " - [unittest --- ユニットテストフレームワーク](https://docs.python.org/ja/3/library/unittest.html)\n",
    " - [2. setup スクリプトを書く - Python 3 ドキュメント](https://docs.python.org/ja/3/distutils/setupscript.html)"
   ]
  },
  {
   "cell_type": "markdown",
   "metadata": {},
   "source": [
    "## 「第2ステージ 自然なコードで表現する」より\n",
    "「第2ステージ」で、DeZeroは可変長の入出力を実現し、世代の概念が実装され、多くの変数・演算子が自然に扱えるようになり、パッケージにまとめられます。\n",
    "\n",
    "### 「ステップ11 可変長の引数（順伝播編）」より\n",
    " - Pythonのリストは、`[1, 2 ,3]`のように`[]`で囲み、タプルは`(1, 2, 3)`のように`()`で囲み複数の値を保持する。タプルは一度生成したら、その要素を変更できない。\n",
    " - リスト内包表記は、`[c.velocity for c in cars]`のように書き、`cars`リストの各要素`c`に対して、それぞれのデータ`c.velocity`を取り出し、その要素からなる新しいリストを作る。"
   ]
  },
  {
   "cell_type": "code",
   "execution_count": 1,
   "metadata": {},
   "outputs": [
    {
     "name": "stdout",
     "output_type": "stream",
     "text": [
      "[7, 5, 3]\n"
     ]
    }
   ],
   "source": [
    "class Vehicle:\n",
    "    def __init__(self, velocity):\n",
    "        if velocity is not None:\n",
    "            if not isinstance(velocity, int):\n",
    "                raise TypeError('{} is not supported'.format(type(velocity)))\n",
    "        self.velocity = velocity\n",
    "\n",
    "    def __call__(self, vehicle):\n",
    "        self.velocity += vehicle.velocity\n",
    "        return self \n",
    "\n",
    "    def run(self):\n",
    "        raise NotImplementedError()\n",
    "\n",
    "\n",
    "class Car(Vehicle):\n",
    "    def run(self):\n",
    "        print('Run at {}.'.format(self.velocity))\n",
    "        self.velocity -= 1\n",
    "        if self.velocity > 0:\n",
    "            self.run()\n",
    "\n",
    "cars = [Car(7), Car(5), Car(3)]\n",
    "car_velocities = [c.velocity for c in cars]\n",
    "print(car_velocities)"
   ]
  },
  {
   "cell_type": "markdown",
   "metadata": {},
   "source": [
    "### 「ステップ12 可変長の引数（改善編）」より\n",
    " - Pythonのif文を一行で記述する三項演算子（条件演算子）。\n",
    "   - `条件式が真のときに評価される式 if 条件式 else 条件式が偽のときに評価される式`\n",
    " - 関数定義の引数にアスタリスク`*`を付けることにより、任意個の引数（可変長引数）を与えられる。\n",
    " - 関数の呼び出し時にアスタリスク`*`を付けることで、リストの要素を展開して渡すアンパックが行われる。"
   ]
  },
  {
   "cell_type": "code",
   "execution_count": 2,
   "metadata": {},
   "outputs": [
    {
     "name": "stdout",
     "output_type": "stream",
     "text": [
      "odd\n",
      "even\n",
      "<class 'tuple'>\n",
      "(1, 2, 3)\n",
      "<class 'tuple'>\n",
      "(1,)\n",
      "[1, 2]\n",
      "1 2\n",
      "3 4\n",
      "<class 'tuple'>\n",
      "([1, 2],)\n",
      "<class 'tuple'>\n",
      "(1, 2)\n"
     ]
    }
   ],
   "source": [
    "a = 1\n",
    "print('even' if a % 2 == 0 else 'odd') # 三項演算子（値）\n",
    "a = 2\n",
    "print('even') if a % 2 == 0 else print('odd') # 三項演算子（式）\n",
    "\n",
    "def f(*x): # 可変長引数\n",
    "    print(type(x))\n",
    "    print(x)\n",
    " \n",
    "f(1,2,3)\n",
    "f(1)\n",
    "\n",
    "p = [1, 2]\n",
    "print(p)\n",
    "print(*p) # アンパック\n",
    "print(3, 4)\n",
    "\n",
    "f(p)\n",
    "f(*p) # アンパック"
   ]
  },
  {
   "cell_type": "markdown",
   "metadata": {},
   "source": [
    "### 「ステップ13 可変長の引数（逆伝播編）」より\n",
    " - `zip`関数で配列のペアから値を取得する。"
   ]
  },
  {
   "cell_type": "code",
   "execution_count": 3,
   "metadata": {},
   "outputs": [
    {
     "name": "stdout",
     "output_type": "stream",
     "text": [
      "a 1\n",
      "b 2\n",
      "c 3\n"
     ]
    }
   ],
   "source": [
    "for c, n in zip([\"a\", \"b\", \"c\", \"d\"], [1,2,3]):\n",
    "    print(c, n)"
   ]
  },
  {
   "cell_type": "markdown",
   "metadata": {},
   "source": [
    "### 「ステップ14 同じ変数を繰り返し使う」\n",
    "### 「ステップ15 複雑な計算グラフ（理論編）」\n",
    "### 「ステップ16 複雑な計算グラフ（実装編）」より\n",
    " - 配列（リスト、タプル、集合、辞書）から最大値を取り出す関数`max`\n",
    " - ラムダ式（無名関数）の文法：`lambda 引数1, 引数2, ...: 返式`\n",
    "   - 次の関数定義は同等であり、名前を付けなくても良い。返式には三項演算子を使ってもいい。`sorted`、`max`などの関数の`key`引数に渡す関数としてよく使われる。`map`関数や`filter`関数のような第２引数のリストなどに適用する第１引数の関数としてもよく使われる。\n",
    "\n",
    "```python\n",
    "def func(a, b):\n",
    "    return a + b\n",
    "\n",
    "func = lambda a, b: a + b\n",
    "```\n",
    "\n",
    " - 参考：[Pythonのlambda（ラムダ式、無名関数）の使い方 | note.nkmk.me](https://note.nkmk.me/python-lambda-usage/)"
   ]
  },
  {
   "cell_type": "code",
   "execution_count": 4,
   "metadata": {},
   "outputs": [
    {
     "name": "stdout",
     "output_type": "stream",
     "text": [
      "3 3 3 3\n",
      "c\n",
      "dict_items([('a', 3), ('b', 2), ('c', 1)])\n",
      "('a', 3)\n",
      "odd\n"
     ]
    }
   ],
   "source": [
    "print(max(1, 2, 3), max((1, 2, 3)), max([1, 2, 3]), max({1, 2, 3}))\n",
    "dictionary = {'a': 3, 'b': 2, 'c': 1}\n",
    "print(max(dictionary)) # 辞書のキーの最大\n",
    "print(dictionary.items())\n",
    "print(max(dictionary.items(), key = lambda x: x[1])) # 辞書の値が最大の項取得\n",
    "print((lambda a: 'even' if a % 2 == 0 else 'odd')(7)) # 三項演算子"
   ]
  },
  {
   "cell_type": "markdown",
   "metadata": {},
   "source": [
    "### 「ステップ17 メモリ管理と循環参照」より\n",
    " - Pythonのメモリ管理は、参照カウントとガーベージコレクション（GC）と呼ばれる方式で行われている。\n",
    " - 参照カウント方式では、オブジェクトは参照カウントが0の状態で生成され、他のオブジェクトから参照されたときに、参照カウントを+1し、参照がなくなると、参照カウントを-1し、参照カウンタが0になったタイミングで、オブジェクトは即座にメモリから消去される。\n",
    " - 次の様にオブジェクト`a, b`がそれぞれオブジェクト`b, a`を循環参照している場合は、`a = b = None`後はプログラムから`a, b`オブジェクトは利用できないが参照カウントは0にならずメモリから消去されない。\n",
    "   - この場合はメモリが不足したタイミングなどでGCによりメモリから解放されるがメモリ解放の先送りになるためメモリ使用量は増加する。\n",
    "   - `gc`モジュールをインポートし`gc.collect()`によりGCを明示的に呼び出すこともできる。\n",
    "\n",
    "```python\n",
    "class Obj:\n",
    "    pass\n",
    "\n",
    "a = Obj() # オブジェクトaの参照カウント1\n",
    "b = Obj() # オブジェクトbの参照カウント1\n",
    "\n",
    "a.b = b # オブジェクトbの参照カウント2\n",
    "b.a = a # オブジェクトaの参照カウント2（循環参照）\n",
    "a = b = None # オブジェクトa, bの参照カウント1\n",
    "```\n",
    "\n",
    " - `weakref`モジュールの`weakref.ref`関数を使って、参照カウントを増やすことなく、別のオブジェクトを参照する弱参照を行える。弱参照先のオブジェクトの値にアクセスするには`()`を付ける。\n",
    " - 外部ライブラリの[memory-profiler](https://pypi.org/project/memory-profiler/)を使えば、メモリ使用量が計測できる。"
   ]
  },
  {
   "cell_type": "code",
   "execution_count": 5,
   "metadata": {},
   "outputs": [
    {
     "name": "stdout",
     "output_type": "stream",
     "text": [
      "<weakref at 0x7fd5e4935230; to 'numpy.ndarray' at 0x7fd5e48ef2b0>\n",
      "[1 2 3]\n",
      "<weakref at 0x7fd5e4935230; dead>\n"
     ]
    }
   ],
   "source": [
    "import weakref\n",
    "import numpy as np\n",
    "\n",
    "a = np.array([1, 2, 3]) # オブジェクトaの参照カウント1\n",
    "b = weakref.ref(a) # オブジェクトaの参照カウント1のまま\n",
    "print(b)\n",
    "print(b()) # オブジェクトaの値にアクセス\n",
    "a = None # オブジェクトaの参照カウント0（メモリ解放）\n",
    "print(b)"
   ]
  },
  {
   "cell_type": "markdown",
   "metadata": {},
   "source": [
    "### 「ステップ 18 メモリ使用量を減らすモード」より\n",
    " - `with`文により、`with`ブロックに入るときの前処理、`with`ブロックから出るときの後処理を自動的に行える。\n",
    " - `contextlib`モジュールを使い、関数定義に`@contextlib.contextmanager`デコレータを付けることで`with`文を実装できる。"
   ]
  },
  {
   "cell_type": "code",
   "execution_count": 6,
   "metadata": {},
   "outputs": [
    {
     "name": "stdout",
     "output_type": "stream",
     "text": [
      "前処理\n",
      "withブロック内の処理\n",
      "後処理\n"
     ]
    }
   ],
   "source": [
    "import contextlib\n",
    "\n",
    "@contextlib.contextmanager\n",
    "def with_test():\n",
    "    print('前処理')\n",
    "    try:\n",
    "        yield\n",
    "    finally:\n",
    "        print('後処理')\n",
    "\n",
    "with with_test():\n",
    "    print('withブロック内の処理')"
   ]
  },
  {
   "cell_type": "markdown",
   "metadata": {},
   "source": [
    "### 「ステップ19 変数を使いやすく」より\n",
    " - 関数定義の前に`@property`デコレータを付けることで、関数はインスタンス変数としてアクセスできるようになる。\n",
    " - `len`関数は要素数を返す。高次元配列は最初の次元の要素数を返す。\n",
    " - クラスに`__len__`特殊メソッドを実装することで、そのクラスのインスタンスに対しても`len`関数が使えるようになる。\n",
    " - クラスに`__repr__`特殊メソッドを実装することで、そのクラスのインスタンスに対する`str`関数、`print`関数をカスタマイズできる。クラスに`__str__`特殊メソッドを実装することによっても`str`関数をカスタマイズできる。"
   ]
  },
  {
   "cell_type": "code",
   "execution_count": 7,
   "metadata": {},
   "outputs": [
    {
     "name": "stdout",
     "output_type": "stream",
     "text": [
      "Run at 10.\n",
      "4 2\n",
      "4 2\n",
      "10\n",
      "Velocity is 10.\n",
      "Velocity is 10.\n"
     ]
    }
   ],
   "source": [
    "class Vehicle:\n",
    "    def __init__(self, velocity):\n",
    "        self.velocity = velocity\n",
    "\n",
    "    def __call__(self, velocity):\n",
    "        self.velocity += velocity\n",
    "        \n",
    "    def __len__(self): # len関数\n",
    "        return self.velocity\n",
    "    \n",
    "    def __repr__(self):\n",
    "        return 'Velocity is {}.'.format(self.velocity)\n",
    "\n",
    "    def run(self):\n",
    "        raise NotImplementedError()\n",
    "\n",
    "class Car(Vehicle):\n",
    "    @property\n",
    "    def run(self):\n",
    "        print('Run at {}.'.format(self.velocity))\n",
    "\n",
    "car = Car(10)\n",
    "car.run # インスタンス変数として\n",
    "\n",
    "print(len([1, 2, 3, 4]), len([[1, 2, 3], [4, 5, 6]]))\n",
    "print(len(np.array([1, 2, 3, 4])), len(np.array([[1, 2, 3], [4, 5, 6]])))\n",
    "print(len(car)) # __len__\n",
    "print(car) # __repr__\n",
    "print(str(car))"
   ]
  },
  {
   "cell_type": "markdown",
   "metadata": {},
   "source": [
    "### 「ステップ20 演算子のオーバーロード（1）」より\n",
    "### 「ステップ21 演算子のオーバーロード（2）」より\n",
    "### 「ステップ22 演算子のオーバーロード（3）」より\n",
    " - Pythonでは、次表のような特殊メソッドを定義することで、対応する演算子をオーバーロードし、ユーザが定義した処理を呼べるようになる。演算子は表の他にもある。\n",
    "   - `__op__`は`__rop__`より優先度が高く、`__op__`が実装されてない場合に`__rop__`が呼ばれる。\n",
    "\n",
    "|特殊メソッド                 |演算子          |\n",
    "|:--------------------------|:--------------|\n",
    "|`__add__(self, other)`     |`self + other` |\n",
    "|`__radd__(self, other)`    |`other + self` |\n",
    "|`__mul__(self, other)`     |`self * other` |\n",
    "|`__rmul__(self, other)`    |`other * self` |\n",
    "|`__neg__(self)`            |`-self`        |\n",
    "|`__sub__(self, other)`     |`self - other` |\n",
    "|`__rsub__(self, other)`    |`other - self` |\n",
    "|`__truediv__(self, other)` |`self / other` |\n",
    "|`__rtruediv__(self, other)`|`other / self` |\n",
    "|`__pow__(self, other)`     |`self ** other`|\n",
    "\n",
    "- 演算子のオーバーロードは別に定義した関数オブジェクトを用いて`Vehicle.__add__ = add`のように実装することもできる。"
   ]
  },
  {
   "cell_type": "code",
   "execution_count": 8,
   "metadata": {},
   "outputs": [
    {
     "name": "stdout",
     "output_type": "stream",
     "text": [
      "Velocity is 3.\n",
      "Velocity is 3.\n",
      "Velocity is 4.\n",
      "Velocity is 2.\n",
      "Velocity is 4.\n",
      "Velocity is 5.\n",
      "Velocity is 25.\n"
     ]
    }
   ],
   "source": [
    "class Vehicle:\n",
    "    def __init__(self, velocity):\n",
    "        self.velocity = velocity\n",
    "\n",
    "    def __call__(self, velocity):\n",
    "        self.velocity += velocity\n",
    "        \n",
    "    def __len__(self): # len関数\n",
    "        return self.velocity\n",
    "    \n",
    "    def __repr__(self):\n",
    "        return 'Velocity is {}.'.format(self.velocity)\n",
    "    \n",
    "    def __add__(self, other):\n",
    "        if isinstance(other, Vehicle):\n",
    "            return Vehicle(self.velocity + other.velocity)\n",
    "        elif isinstance(other, int):\n",
    "            return Vehicle(self.velocity + other)\n",
    "        else:\n",
    "            raise TypeError()\n",
    "    \n",
    "    def __radd__(self, other):\n",
    "        if isinstance(other, int):\n",
    "            return Vehicle(other + self.velocity)\n",
    "        else:\n",
    "            raise TypeError()\n",
    "    \n",
    "    def __mul__(self, other):\n",
    "        if isinstance(other, Vehicle):\n",
    "            return Vehicle(self.velocity * other.velocity)\n",
    "        elif isinstance(other, int):\n",
    "            return Vehicle(self.velocity * other)\n",
    "        else:\n",
    "            raise TypeError()\n",
    "    \n",
    "    def __rmul__(self, other):\n",
    "        if isinstance(other, int):\n",
    "            return Vehicle(other * self.velocity)\n",
    "        else:\n",
    "            raise TypeError()\n",
    "    \n",
    "    def run(self):\n",
    "        raise NotImplementedError()\n",
    "\n",
    "\n",
    "class Car(Vehicle):\n",
    "    @property\n",
    "    def run(self):\n",
    "        print('Run at {}.'.format(self.velocity))\n",
    "\n",
    "c1 = Car(1)\n",
    "c2 = Car(2)\n",
    "\n",
    "print(c1 + c2) # __add__\n",
    "print(c1 +  2) # __add__\n",
    "print(3  + c1) # __radd__\n",
    "print(c1 * c2) # __mul__\n",
    "print(c1 *  4) # __mul__\n",
    "print(5  * c1) # __rmul__\n",
    "print(6  * (c1 + c2) + 7)"
   ]
  },
  {
   "cell_type": "markdown",
   "metadata": {},
   "source": [
    "### 「ステップ23 パッケージとしてまとめる」より\n",
    " - Pythonファイルを**モジュール**と呼び、ディレクトリに複数モジュールを追加したものを**パッケージ**と呼び、１個以上のパッケージをまとめたものを**ライブラリ**と呼ぶ。\n",
    "   - `from XXX import C`：モジュールXXXにあるクラスCや関数などをインポートする。\n",
    "   - `import XXX as A`：モジュールXXXをAという名前でインポートできる。\n",
    "   - `__init__.py`はモジュールをインポートする際に、最初に実行されるファイルである。パッケージにインポートや初期化処理を記述する。空でも構わない。\n",
    "- `globals`関数でグローバル変数が取得できる。Pythonコマンドとして実行する場合は、`__file__`グローバル変数が定義されている。\n",
    " - `sys.path.append`によりモジュールの検索パスに追加できる。\n",
    " - キィットキィトで開発するプログラムは次のようなファイル構成にする。\n",
    "   - `qitqito`ディレクトリにモジュール（Pythonファイル）を置き、`qitqito`パッケージを作る。\n",
    "   - `tests`に`unittest`用のテストを置き、`tests`パッケージを作る。\n",
    "     - なお`dezero`では`tests/__init__.py`は無い。その場合もDeZeroパッケージをインストールするか、テストプログラムに`sys.path.append(os.path.join(os.path.dirname(__file__), '..'))`を記述すればモジュールの検索パスに追加してモジュールをインポートできる。\n",
    "     - しかしエディタにインポートエラーの表示がされてしまう。これを避けるため、キィットキィトでは`tests/__init__.py`を配置する。\n",
    "\n",
    "```\n",
    ".\n",
    "│\n",
    "├── qitqito\n",
    "│ ├── __init__.py\n",
    "│ ├── vehicle.py\n",
    "│ ├── ...\n",
    "│ └── ...\n",
    "│\n",
    "├── tests\n",
    "│ ├── __init__.py\n",
    "│ ├── test_car.py\n",
    "│ └── ...\n",
    "│\n",
    "```\n",
    "\n",
    " - キィットキィトの`basic`リポジトリをダウンロード（`clone`）して`basic`ディレクトリに移動すると、上記のファイル構成になっている。\n",
    "\n",
    "```\n",
    "$ git clone https://github.com/qitqito/basic.git\n",
    "$ cd basic\n",
    "```\n",
    "\n",
    " - `python`コマンドに`-m unittest`引数を与えて、テストモードでPythonファイルを実行する。\n",
    " - テストファイル（`test*.py`）を指定して実行することもできるし、`discover`サブコマンドの後に指定したディレクトリの全テストファイルをまとめて実行することもできる。\n",
    "   - 参照：[unittest --- ユニットテストフレームワーク](https://docs.python.org/ja/3/library/unittest.html)\n",
    "\n",
    "```\n",
    "$ python -m unittest tests.test_car\n",
    "```\n",
    "```\n",
    "$ python -m unittest discover tests\n",
    "```\n",
    "\n",
    " - キィットキィトの`basic`リポジトリには、`setup.py`もあるため、次のいずれかにより`qitqito`パッケージをインストールできる。\n",
    "   - `basic`リポジトリをダウンロード（`clone`）して`basic`ディレクトリで`pip install .`\n",
    "   - `pip install git+https://github.com/qitqito/basic.git`\n",
    " - `pip uninstall qitqito`でアンインストールする。"
   ]
  }
 ],
 "metadata": {
  "kernelspec": {
   "display_name": "Python 3",
   "language": "python",
   "name": "python3"
  },
  "language_info": {
   "codemirror_mode": {
    "name": "ipython",
    "version": 3
   },
   "file_extension": ".py",
   "mimetype": "text/x-python",
   "name": "python",
   "nbconvert_exporter": "python",
   "pygments_lexer": "ipython3",
   "version": "3.7.7"
  }
 },
 "nbformat": 4,
 "nbformat_minor": 4
}
