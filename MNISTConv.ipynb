{
 "cells": [
  {
   "cell_type": "markdown",
   "metadata": {},
   "source": [
    "## DeZeroで「ゼロから作るDeep Learning 8章 ディープラーニング」を参考に少し深いCNN実装\n",
    " - [ゼロから作るDeep Learning](https://www.oreilly.co.jp/books/9784873117584/)の「8章 ディープラーニング」のCNNを参考に次のCNNを実装してみる。\n",
    "   - 最適化手法：Adam\n",
    "   - 20エポック後の畳み込み層の画像を[oreilly-japan/deep-learning-from-scratch/ch07/visualize_filter.py](https://github.com/oreilly-japan/deep-learning-from-scratch/blob/master/ch07/visualize_filter.py)の`filter_show`関数を利用させて頂き表示。\n",
    "```\n",
    "Conv(16, 3)->ReLU->C(16, 3)->R->Pool->C(32, 3)->R->C(32, 3)->R->P->Affine->R->Dropout->A->D->Softmax\n",
    "Conv(チャンネル数, フィルターサイズ)\n",
    "```\n",
    "\n",
    " - [qitqito/dezero_study/mnist_conv.py](https://github.com/qitqito/dezero_study/blob/master/mnist_conv.py)に実装があります。以下に貼り付けました。ローカルで実行するにはDeZeroをインストール（`pip install dezero`）して下さい。"
   ]
  },
  {
   "cell_type": "code",
   "execution_count": 1,
   "metadata": {},
   "outputs": [
    {
     "name": "stdout",
     "output_type": "stream",
     "text": [
      "epoch: 1\n",
      "train loss: 0.7745880496005217, accuracy: 0.8107166666666666\n",
      "test loss: 0.21437150230631233, accuracy: 0.9265\n",
      "epoch: 2\n",
      "train loss: 0.18387772805367908, accuracy: 0.9435666666666667\n",
      "test loss: 0.12934451738372446, accuracy: 0.9572\n",
      "epoch: 3\n",
      "train loss: 0.12505377058405429, accuracy: 0.9619666666666666\n",
      "test loss: 0.10398872148245573, accuracy: 0.9714\n",
      "epoch: 4\n",
      "train loss: 0.10075697976940622, accuracy: 0.9701166666666666\n",
      "test loss: 0.09195344189414754, accuracy: 0.9736\n",
      "epoch: 5\n",
      "train loss: 0.08086445924282695, accuracy: 0.9756666666666667\n",
      "test loss: 0.08986783667933196, accuracy: 0.9747\n",
      "epoch: 6\n",
      "train loss: 0.06618870926244805, accuracy: 0.9802666666666666\n",
      "test loss: 0.07596710937796161, accuracy: 0.9782\n",
      "epoch: 7\n",
      "train loss: 0.062247648977208886, accuracy: 0.9816166666666667\n",
      "test loss: 0.0732591821620008, accuracy: 0.9806\n",
      "epoch: 8\n",
      "train loss: 0.058036071138922125, accuracy: 0.9833833333333334\n",
      "test loss: 0.0619221124087926, accuracy: 0.9816\n",
      "epoch: 9\n",
      "train loss: 0.0479881908626218, accuracy: 0.9854\n",
      "test loss: 0.06340395244231331, accuracy: 0.9807\n",
      "epoch: 10\n",
      "train loss: 0.04900186897740544, accuracy: 0.9851666666666666\n",
      "test loss: 0.07558945185504853, accuracy: 0.9796\n",
      "epoch: 11\n",
      "train loss: 0.041666206240600634, accuracy: 0.98755\n",
      "test loss: 0.06293452509475174, accuracy: 0.9838\n",
      "epoch: 12\n",
      "train loss: 0.04047073709206112, accuracy: 0.9878833333333333\n",
      "test loss: 0.05779156145465095, accuracy: 0.9831\n",
      "epoch: 13\n",
      "train loss: 0.03939237588482986, accuracy: 0.9883666666666666\n",
      "test loss: 0.05232087381591555, accuracy: 0.9865\n",
      "epoch: 14\n",
      "train loss: 0.036723574439286796, accuracy: 0.9892166666666666\n",
      "test loss: 0.053780705960925844, accuracy: 0.9862\n",
      "epoch: 15\n",
      "train loss: 0.03525170872817398, accuracy: 0.9893666666666666\n",
      "test loss: 0.06510673056673114, accuracy: 0.9845\n",
      "epoch: 16\n",
      "train loss: 0.03296757990787834, accuracy: 0.99005\n",
      "test loss: 0.056299017100318455, accuracy: 0.986\n",
      "epoch: 17\n",
      "train loss: 0.03031485332098479, accuracy: 0.9907\n",
      "test loss: 0.06169152411036521, accuracy: 0.9864\n",
      "epoch: 18\n",
      "train loss: 0.030914597464313073, accuracy: 0.99075\n",
      "test loss: 0.05698359941445233, accuracy: 0.987\n",
      "epoch: 19\n",
      "train loss: 0.024605469731565487, accuracy: 0.9926333333333334\n",
      "test loss: 0.051156689928520224, accuracy: 0.9867\n",
      "epoch: 20\n",
      "train loss: 0.026340188353254537, accuracy: 0.9918166666666667\n",
      "test loss: 0.05992243782964806, accuracy: 0.987\n",
      "conv1_1\n"
     ]
    },
    {
     "data": {
      "image/png": "[encoded data removed]",
      "text/plain": [
       "<Figure size 432x288 with 16 Axes>"
      ]
     },
     "metadata": {},
     "output_type": "display_data"
    },
    {
     "name": "stdout",
     "output_type": "stream",
     "text": [
      "conv1_2\n"
     ]
    },
    {
     "data": {
      "image/png": "[encoded data removed]",
      "text/plain": [
       "<Figure size 432x288 with 16 Axes>"
      ]
     },
     "metadata": {},
     "output_type": "display_data"
    },
    {
     "name": "stdout",
     "output_type": "stream",
     "text": [
      "conv2_1\n"
     ]
    },
    {
     "data": {
      "image/png": "[encoded data removed]",
      "text/plain": [
       "<Figure size 432x288 with 32 Axes>"
      ]
     },
     "metadata": {},
     "output_type": "display_data"
    },
    {
     "name": "stdout",
     "output_type": "stream",
     "text": [
      "conv2_2\n"
     ]
    },
    {
     "data": {
      "image/png": "[encoded data removed]",
      "text/plain": [
       "<Figure size 432x288 with 32 Axes>"
      ]
     },
     "metadata": {},
     "output_type": "display_data"
    }
   ],
   "source": [
    "import numpy as np\n",
    "import matplotlib.pyplot as plt\n",
    "\n",
    "import dezero\n",
    "import dezero.functions as F\n",
    "from dezero import DataLoader\n",
    "from dezero.models import Model\n",
    "import dezero.layers as L\n",
    "\n",
    "\n",
    "def filter_show(filters, nx=8, margin=3, scale=10):\n",
    "    \"\"\"\n",
    "    c.f. https://gist.github.com/aidiary/07d530d5e08011832b12#file-draw_weight-py\n",
    "    \"\"\"\n",
    "    FN, C, FH, FW = filters.shape\n",
    "    ny = int(np.ceil(FN / nx))\n",
    "\n",
    "    fig = plt.figure()\n",
    "    fig.subplots_adjust(left=0, right=1, bottom=0, top=1, hspace=0.05, wspace=0.05)\n",
    "\n",
    "    for i in range(FN):\n",
    "        ax = fig.add_subplot(ny, nx, i+1, xticks=[], yticks=[])\n",
    "        ax.imshow(filters[i, 0], cmap=plt.cm.gray_r, interpolation='nearest')\n",
    "    plt.show()\n",
    "\n",
    "class MNISTConv(Model):\n",
    "    def __init__(self, hidden_size=100):\n",
    "        super().__init__()\n",
    "        self.conv1_1 = L.Conv2d(16, kernel_size=3, stride=1, pad=1)\n",
    "        self.conv1_2 = L.Conv2d(16, kernel_size=3, stride=1, pad=1)\n",
    "        self.conv2_1 = L.Conv2d(32, kernel_size=3, stride=1, pad=1)\n",
    "        self.conv2_2 = L.Conv2d(32, kernel_size=3, stride=1, pad=1)\n",
    "        self.fc3 = L.Linear(hidden_size)\n",
    "        self.fc4 = L.Linear(10)\n",
    "\n",
    "    def forward(self, x):\n",
    "        x = F.relu(self.conv1_1(x)) # (OH, OW)=(28, 28)\n",
    "        x = F.relu(self.conv1_2(x)) # (OH, OW)=(28, 28)\n",
    "        x = F.pooling(x, 2, 2) # (OH, OW)=(14, 14)\n",
    "        x = F.relu(self.conv2_1(x)) # (OH, OW)=(14, 14)\n",
    "        x = F.relu(self.conv2_2(x)) # (OH, OW)=(14, 14)\n",
    "        x = F.pooling(x, 2, 2) # (OH, OW)=(7, 7)\n",
    "        x = F.reshape(x, (x.shape[0], -1)) # (7, 7)->(49, )\n",
    "        x = F.dropout(F.relu(self.fc3(x)))\n",
    "        x = self.fc4(x)\n",
    "        return x\n",
    "\n",
    "max_epoch = 20\n",
    "batch_size = 100\n",
    "\n",
    "train_set = dezero.datasets.MNIST(train=True, transform=None) # (28, 28)\n",
    "test_set = dezero.datasets.MNIST(train=False, transform=None) # (28, 28)\n",
    "train_loader = DataLoader(train_set, batch_size)\n",
    "test_loader = DataLoader(test_set, batch_size, shuffle=False)\n",
    "\n",
    "model = MNISTConv()\n",
    "optimizer = dezero.optimizers.Adam().setup(model)\n",
    "optimizer.add_hook(dezero.optimizers.WeightDecay(1e-4))  # Weight decay\n",
    "\n",
    "if dezero.cuda.gpu_enable:\n",
    "    train_loader.to_gpu()\n",
    "    test_loader.to_gpu()\n",
    "    model.to_gpu()\n",
    "\n",
    "for epoch in range(max_epoch):\n",
    "    sum_loss, sum_acc = 0, 0\n",
    "\n",
    "    for x, t in train_loader:\n",
    "        y = model(x)\n",
    "        loss = F.softmax_cross_entropy(y, t)\n",
    "        acc = F.accuracy(y, t)\n",
    "        model.cleargrads()\n",
    "        loss.backward()\n",
    "        optimizer.update()\n",
    "\n",
    "        sum_loss += float(loss.data) * len(t)\n",
    "        sum_acc += float(acc.data) * len(t)\n",
    "\n",
    "    print('epoch: {}'.format(epoch+1))\n",
    "    print('train loss: {}, accuracy: {}'.format(\n",
    "        sum_loss / len(train_set), sum_acc / len(train_set)))\n",
    "\n",
    "    sum_loss, sum_acc = 0, 0\n",
    "    with dezero.no_grad():\n",
    "        for x, t in test_loader:\n",
    "            y = model(x)\n",
    "            loss = F.softmax_cross_entropy(y, t)\n",
    "            acc = F.accuracy(y, t)\n",
    "            sum_loss += float(loss.data) * len(t)\n",
    "            sum_acc += float(acc.data) * len(t)\n",
    "\n",
    "    print('test loss: {}, accuracy: {}'.format(\n",
    "        sum_loss / len(test_set), sum_acc / len(test_set)))\n",
    "\n",
    "print(\"conv1_1\")\n",
    "filter_show(model.conv1_1.W.data)\n",
    "print(\"conv1_2\")\n",
    "filter_show(model.conv1_2.W.data)\n",
    "print(\"conv2_1\")\n",
    "filter_show(model.conv2_1.W.data)\n",
    "print(\"conv2_2\")\n",
    "filter_show(model.conv2_2.W.data)"
   ]
  },
  {
   "cell_type": "markdown",
   "metadata": {},
   "source": [
    "### 考察\n",
    " - エポック1から既にMNISTの全結合版よりも良い精度が出ています。適切なニューラルネットワークとはそう言うものなのかも知れません。最終的には99%近くの精度が出ました。8章のCNNと同等ですね。\n",
    "   - 参照：[qitqito/blog/MNISTPlus.ipynb](https://github.com/qitqito/blog/blob/master/MNISTPlus.ipynb)\n",
    " - 畳み込み層を可視化してみましたがサイズが小さいと良くわからないです。"
   ]
  },
  {
   "cell_type": "code",
   "execution_count": null,
   "metadata": {},
   "outputs": [],
   "source": []
  }
 ],
 "metadata": {
  "kernelspec": {
   "display_name": "Python 3",
   "language": "python",
   "name": "python3"
  },
  "language_info": {
   "codemirror_mode": {
    "name": "ipython",
    "version": 3
   },
   "file_extension": ".py",
   "mimetype": "text/x-python",
   "name": "python",
   "nbconvert_exporter": "python",
   "pygments_lexer": "ipython3",
   "version": "3.7.7"
  }
 },
 "nbformat": 4,
 "nbformat_minor": 4
}
