{
 "cells": [
  {
   "cell_type": "markdown",
   "metadata": {},
   "source": [
    "## 「[ゼロから作るDeep Learning ❸――フレームワーク編](https://www.oreilly.co.jp/books/9784873119069/)」を元にPythonの基礎解説 第5最終ステージ\n",
    "この記事では、前回に続けてPythonの基礎解説を行なっていきます。DeZero、NumPy、CuPyについては詳細な説明は行いません。"
   ]
  },
  {
   "cell_type": "markdown",
   "metadata": {},
   "source": [
    "## 「第5ステージ DeZeroで挑む」より\n",
    "第5ステージでは、DeZeroに、GPUでの実行、モデルの外部ファイルへの保存、学習時とテスト時で挙動を変えるレイヤ（Dropoutなど）などの機能、CNN、RNN、LSTMなどが実装される。"
   ]
  },
  {
   "cell_type": "markdown",
   "metadata": {},
   "source": [
    "### 「ステップ52 GPU対応」"
   ]
  },
  {
   "cell_type": "markdown",
   "metadata": {},
   "source": [
    "### 「ステップ53 モデルの保存と読み込み」より\n",
    " - モデルの保存と読み込みをNumPyの`np.save`、`np.savez`、`np.savez_compressed`、`np.load`を使って行う。\n",
    "   - [numpy.save — NumPy v1.19 Manual](https://numpy.org/doc/stable/reference/generated/numpy.save.html)\n",
    "   - [numpy.savez — NumPy v1.19 Manual](https://numpy.org/doc/stable/reference/generated/numpy.savez.html)\n",
    "   - [numpy.savez_compressed — NumPy v1.19 Manual](https://numpy.org/doc/stable/reference/generated/numpy.savez_compressed.html)\n",
    "   - [numpy.load — NumPy v1.19 Manual](https://numpy.org/doc/stable/reference/generated/numpy.load.html)"
   ]
  },
  {
   "cell_type": "markdown",
   "metadata": {},
   "source": [
    "### 「ステップ54 Dropoutとテストモード」より\n",
    " - Direct DropoutとInverted Dropoutの解説。DeZeroではInverted Dropoutを採用。"
   ]
  },
  {
   "cell_type": "markdown",
   "metadata": {},
   "source": [
    "### 「ステップ55 CNNのメカニズム（1）」より\n",
    " - CNNによってなぜ画像認識が上手くできるのか、なぜ画像の特徴量を抽出できるのか、といったことについては『ゼロから作るDeep Learning』などを参照。\n",
    " - DeZeroでは出力サイズを求める`get_conv_outsize`関数を提供。\n",
    " - `出力サイズ = 入力データサイズ  + 2 * パディングサイズ - カーネルサイズ // ストライドサイズ + 1`\n",
    "   - `//`：小数点以下切り捨ての割り算"
   ]
  },
  {
   "cell_type": "markdown",
   "metadata": {},
   "source": [
    "### 「ステップ56 CNNのメカニズム（2）」"
   ]
  },
  {
   "cell_type": "markdown",
   "metadata": {},
   "source": [
    "### 「ステップ57 conv2d関数とpooling関数」より\n",
    " - DeZeroの`im2col`関数では、入力データからカーネル適用部分を取り出し`reshape`で一列にして、行列にするところまで行う。カーネルからも行列を作り行列積により計算できる。`to_matrix`フラグを`False`にすれば`respape`を省略して、NumPyの`np.tensordot`、`np.einsum`によりテンソル積の計算で行うこともできる。詳細は書籍参照。\n",
    " - NumPyの`reshape`関数の引数に`-1`を指定すると、多次元配列の要素数の辻褄が合うように要素をまとめてくれる。\n",
    "   - [numpy.reshape — NumPy v1.19 Manual](https://numpy.org/doc/stable/reference/generated/numpy.reshape.html), [numpy.ndarray.reshape](https://numpy.org/doc/stable/reference/generated/numpy.ndarray.reshape.html)"
   ]
  },
  {
   "cell_type": "code",
   "execution_count": 1,
   "metadata": {},
   "outputs": [
    {
     "name": "stdout",
     "output_type": "stream",
     "text": [
      "[[1 2]\n",
      " [3 4]\n",
      " [5 6]]\n",
      "[[1 2 3]\n",
      " [4 5 6]]\n"
     ]
    }
   ],
   "source": [
    "import numpy as np\n",
    "\n",
    "a = np.array([[1,2,3], [4,5,6]])\n",
    "b = np.reshape(a, (3,-1)) # -1を2にされる。\n",
    "print(b)\n",
    "c = b.reshape((2, -1)) # -1を3にされる。\n",
    "print(c) # 最初に戻る"
   ]
  },
  {
   "cell_type": "markdown",
   "metadata": {},
   "source": [
    "### 「ステップ58 代表的なCNN（VGG16）」より\n",
    " - DeZeroのVGG,[arXiv:1409.1556](https://arxiv.org/abs/1409.1556)の実装。学習済み重み読み込みも実装。ResNetも実装。\n",
    " - 画像処理のライブラリPIL（Python Image Library）のインストールは、`pip install pillow`。Anacondaはインストール済み。\n",
    " - NumPyの`ndarray`への次元追加削除の参考：[NumPy配列ndarrayに次元を追加するnp.newaxis, np.expand_dims() | note.nkmk.me\n",
    "](https://note.nkmk.me/python-numpy-newaxis/)"
   ]
  },
  {
   "cell_type": "markdown",
   "metadata": {},
   "source": [
    "### 「ステップ59 RNNによる時系列データ処理」より\n",
    " - DeZeroに`RNN`レイヤが実装され、サイン波の学習が実装される。"
   ]
  },
  {
   "cell_type": "markdown",
   "metadata": {},
   "source": [
    "### 「ステップ60 LSTMとデータローダ」より（最終ステップ！）\n",
    " - DeZeroに時系列用のデータローダ`SeqDataLoader`が実装され、`LSTM`レイヤが実装される。サイン波の学習がかなり改善している。\n",
    " - LSTMの詳しい説明は、『ゼロから作るDeep Learning ❷』の「6章ゲート付きRNN」参照。"
   ]
  }
 ],
 "metadata": {
  "kernelspec": {
   "display_name": "Python 3",
   "language": "python",
   "name": "python3"
  },
  "language_info": {
   "codemirror_mode": {
    "name": "ipython",
    "version": 3
   },
   "file_extension": ".py",
   "mimetype": "text/x-python",
   "name": "python",
   "nbconvert_exporter": "python",
   "pygments_lexer": "ipython3",
   "version": "3.7.7"
  }
 },
 "nbformat": 4,
 "nbformat_minor": 4
}
