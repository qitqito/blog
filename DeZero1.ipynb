{
 "cells": [
  {
   "cell_type": "markdown",
   "metadata": {},
   "source": [
    "## 「ゼロから作るDeep Learning ❸――フレームワーク編」を元にPythonの基礎解説1\n",
    "[ゼロから作るDeep Learning ❸――フレームワーク編](https://www.oreilly.co.jp/books/9784873119069/)は、PyTorch同様のDefine-by-RunスタイルのDeep Learning[深層学習]フレームワークDeZeroをゼロから60ステップで段階的に開発していく内容で、Pythonのエッセンスから詳しく解説されています。\n",
    "\n",
    "「ゼロから作るDeep Learning」シリーズの３冊目ですが、この本を最初に読んでも十分に理解できると思います。\n",
    "\n",
    "個人的なPythonの実装方針と近いこともあり、[ゼロから作るDeep Learning ❸――フレームワーク編](https://www.oreilly.co.jp/books/9784873119069/)を参考にしてPythonの基礎解説と雛形の作成を行なっていきます。\n",
    "\n",
    "この記事では、DeZeroやNumPyについては詳細な説明は行いません。\n",
    "\n",
    "### 「ゼロから作るDeep Learning ❸――フレームワーク編」の参考文献\n",
    " - [O'Reilly Japan - ゼロから作るDeep Learning ❸](https://www.oreilly.co.jp/books/9784873119069/)\n",
    " - [ゼロから作るDeep Learning ❸ ―フレームワーク編｜Amazon](https://www.amazon.co.jp/dp/4873119065/)\n",
    " - [「ゼロから作るDeep Learning ❸」オンラインブック](https://koki0702.github.io/dezero-book/index.html)\n",
    "   - 「第1ステージ 微分を自動で求める」の10ステップが書かれてます。\n",
    " - [GitHub - oreilly-japan/deep-learning-from-scratch-3](https://github.com/oreilly-japan/deep-learning-from-scratch-3)\n",
    "   - DeZeroのGitHubです。\n",
    "\n",
    "キィットキィトは、Anaconda Individual EditionのPython 3.7版でPythonをインストールしています。\n",
    "\n",
    "### Pythonの参考文献\n",
    " - [Anaconda | Individual Edition](https://www.anaconda.com/products/individual)\n",
    " - [Python3ドキュメント](https://docs.python.org/ja/3/)\n",
    "   - [組み込み例外](https://docs.python.org/ja/3/library/exceptions.html)\n",
    "   - [unittest --- ユニットテストフレームワーク](https://docs.python.org/ja/3/library/unittest.html)\n",
    " - [NumPy](https://numpy.org/)\n",
    " - [Travis CI](https://travis-ci.org/)\n",
    "   - 継続的インテグレーションサービス\n",
    "\n",
    "コーディング規約は、Pythonの標準ライブラリでも採用されている一般的なコーディング規約であるPEP8に従います。\n",
    "\n",
    "### 「PEP」の参考文献\n",
    " - [PEP（Python Enhancement Proposal）](https://www.python.org/dev/peps/)\n",
    " - [PEP8 日本語版](https://github.com/mumumu/pep8-ja)\n",
    " - [pep8-ja](https://pep8-ja.readthedocs.io)\n",
    "\n"
   ]
  },
  {
   "cell_type": "markdown",
   "metadata": {},
   "source": [
    "## 「第1ステージ 微分を自動で求める」より\n",
    "「第1ステージ」では、入出力が１つの単純なDeep Learningネットワークのバックプロパゲーションまで解説されています。\n",
    "\n",
    "### 「ステップ1 箱としての変数」より\n",
    " - クラス名はPEP8に従い大文字で始める。\n",
    " - クラスのインスタンス[オブジェクト]生成・初期化はコンストラクタとも呼ばれる特殊メソッド[関数]`__init__`に記述する。\n",
    " - NumPyの多次元配列のクラス`numpy.ndarray`のインスタンスを`np.array`関数で生成する。\n",
    " - `numpy.ndarray`の`ndim`インスタンス変数は配列の次元を表す。`shape`インスタンス変数により多次元配列の形状が取得できる。\n",
    "   - 0次元の配列はスカラ、1次元の配列はベクトル、2次元の配列は行列、N次元の配列はN階のテンソルと呼ばれる。"
   ]
  },
  {
   "cell_type": "code",
   "execution_count": 1,
   "metadata": {},
   "outputs": [
    {
     "name": "stdout",
     "output_type": "stream",
     "text": [
      "10\n",
      "[1. 2. 3.]\n",
      "1\n",
      "(3,)\n",
      "[[1 2 3]\n",
      " [4 5 6]]\n",
      "2\n",
      "(2, 3)\n"
     ]
    }
   ],
   "source": [
    "class Vehicle:\n",
    "    def __init__(self, velocity):\n",
    "        self.velocity = velocity\n",
    "\n",
    "import numpy as np\n",
    "\n",
    "veh = Vehicle(10)\n",
    "print(veh.velocity)\n",
    "\n",
    "vec = np.array([1.0, 2.0, 3.0]) # ベクトル\n",
    "print(vec)\n",
    "print(vec.ndim)\n",
    "print(vec.shape)\n",
    "mat = np.array([[1, 2, 3], [4, 5, 6]]) # 行列\n",
    "print(mat)\n",
    "print(mat.ndim)\n",
    "print(mat.shape)"
   ]
  },
  {
   "cell_type": "markdown",
   "metadata": {},
   "source": [
    "### 「ステップ2 変数を生み出す関数」より\n",
    " - クラスのインスタンスに引数を渡すことで特殊メソッド`__call__`が呼ばれる。\n",
    " - `type`関数により型が取得できる。\n",
    " - 親クラスの子クラスへの継承は、`子クラス(親クラス)`のように定義する。子クラスでは親クラスのメソッドが引き継がれる。\n",
    " - 組み込み例外`NotImplementedError`は未実装であることを表す。"
   ]
  },
  {
   "cell_type": "code",
   "execution_count": 2,
   "metadata": {},
   "outputs": [
    {
     "name": "stdout",
     "output_type": "stream",
     "text": [
      "Run at 10.\n",
      "Run at 15.\n",
      "<class 'type'>\n",
      "<class '__main__.Vehicle'>\n",
      "<class '__main__.Car'>\n"
     ]
    }
   ],
   "source": [
    "class Vehicle:\n",
    "    def __init__(self, velocity):\n",
    "        self.velocity = velocity\n",
    "\n",
    "    def __call__(self, velocity):\n",
    "        self.velocity += velocity\n",
    "\n",
    "    def run(self):\n",
    "        raise NotImplementedError()\n",
    "\n",
    "\n",
    "class Car(Vehicle):\n",
    "    def run(self):\n",
    "        print('Run at {}.'.format(self.velocity))\n",
    "\n",
    "\n",
    "veh = Vehicle(5)\n",
    "# veh.run() # raise NotImplementedError()\n",
    "\n",
    "car = Car(10)\n",
    "car.run()\n",
    "\n",
    "car(veh.velocity)\n",
    "car.run()\n",
    "\n",
    "print(type(Vehicle))\n",
    "print(type(veh))\n",
    "print(type(car))"
   ]
  },
  {
   "cell_type": "markdown",
   "metadata": {},
   "source": [
    "### 「ステップ3 関数の連結」より\n",
    " - 引数と返り値が同じ型の関数は連結して呼べる。連結した関数を合成関数と呼ぶ。"
   ]
  },
  {
   "cell_type": "code",
   "execution_count": 3,
   "metadata": {},
   "outputs": [
    {
     "name": "stdout",
     "output_type": "stream",
     "text": [
      "Run at 10.\n",
      "Run at 22.\n"
     ]
    }
   ],
   "source": [
    "class Vehicle:\n",
    "    def __init__(self, velocity):\n",
    "        self.velocity = velocity\n",
    "\n",
    "    def __call__(self, vehicle): # ここを変更\n",
    "        self.velocity += vehicle.velocity\n",
    "        return self \n",
    "\n",
    "    def run(self):\n",
    "        raise NotImplementedError()\n",
    "\n",
    "\n",
    "class Car(Vehicle):\n",
    "    def run(self):\n",
    "        print('Run at {}.'.format(self.velocity))\n",
    "\n",
    "\n",
    "veh = Vehicle(1)\n",
    "\n",
    "car = Car(10)\n",
    "car.run()\n",
    "\n",
    "car(car(veh))\n",
    "car.run()"
   ]
  },
  {
   "cell_type": "markdown",
   "metadata": {},
   "source": [
    "### 「ステップ4 数値微分」\n",
    "### 「ステップ5 バックプロパゲーションの理論」\n",
    "### 「ステップ6 手作業によるバックプロパゲーション」\n",
    "### 「ステップ7 バックプロパゲーションの自動化」より\n",
    " - assert文`assert ...`で`...`が`True`でない場合は例外が発生する。\n",
    " - 関数Fから関数Fを呼び出すと関数Fが再帰的に呼び出される。"
   ]
  },
  {
   "cell_type": "code",
   "execution_count": 4,
   "metadata": {},
   "outputs": [
    {
     "name": "stdout",
     "output_type": "stream",
     "text": [
      "Run at 10.\n",
      "Run at 9.\n",
      "Run at 8.\n",
      "Run at 7.\n",
      "Run at 6.\n",
      "Run at 5.\n",
      "Run at 4.\n",
      "Run at 3.\n",
      "Run at 2.\n",
      "Run at 1.\n"
     ]
    }
   ],
   "source": [
    "class Vehicle:\n",
    "    def __init__(self, velocity):\n",
    "        self.velocity = velocity\n",
    "\n",
    "    def __call__(self, veh):\n",
    "        self.velocity += veh.velocity\n",
    "        return self \n",
    "\n",
    "    def run(self):\n",
    "        raise NotImplementedError()\n",
    "\n",
    "\n",
    "class Car(Vehicle):\n",
    "    def run(self):\n",
    "        print('Run at {}.'.format(self.velocity))\n",
    "        self.velocity -= 1\n",
    "        if self.velocity > 0:\n",
    "            self.run() # 再帰\n",
    "\n",
    "car = Car(10)\n",
    "car.run()\n",
    "assert car.velocity == 0"
   ]
  },
  {
   "cell_type": "markdown",
   "metadata": {},
   "source": [
    "### 「ステップ8 再帰からループへ」\n",
    " - リストの`pop`関数で指定位置（デフォルトは最後）の要素を削除しその要素を取り出す。\n",
    "### 「ステップ9 関数をより便利に」より\n",
    " - `np.ones_like()`により、引数と同じ形状・同じデータ型で、要素が`1`の`ndarray`インスタンスを生成する。\n",
    " - `isinstance(1st, 2nd)`は、引数1stインスタンスが、引数2ndかそのサブクラス型のインスタンスであればTrueを返す関数。引数2ndはタプル()にして複数の型を指定することもできる。\n",
    " - 組み込み例外`TypeError`は型の例外を表す。"
   ]
  },
  {
   "cell_type": "code",
   "execution_count": 5,
   "metadata": {},
   "outputs": [
    {
     "name": "stdout",
     "output_type": "stream",
     "text": [
      "3.0\n",
      "[1. 1.]\n"
     ]
    },
    {
     "ename": "TypeError",
     "evalue": "<class 'float'> is not supported",
     "output_type": "error",
     "traceback": [
      "\u001b[0;31m---------------------------------------------------------------------------\u001b[0m",
      "\u001b[0;31mTypeError\u001b[0m                                 Traceback (most recent call last)",
      "\u001b[0;32m<ipython-input-5-726236b98796>\u001b[0m in \u001b[0;36m<module>\u001b[0;34m\u001b[0m\n\u001b[1;32m     29\u001b[0m \u001b[0;34m\u001b[0m\u001b[0m\n\u001b[1;32m     30\u001b[0m \u001b[0mcar\u001b[0m \u001b[0;34m=\u001b[0m \u001b[0mCar\u001b[0m\u001b[0;34m(\u001b[0m\u001b[0;36m10\u001b[0m\u001b[0;34m)\u001b[0m\u001b[0;34m\u001b[0m\u001b[0;34m\u001b[0m\u001b[0m\n\u001b[0;32m---> 31\u001b[0;31m \u001b[0mcar2\u001b[0m \u001b[0;34m=\u001b[0m \u001b[0mCar\u001b[0m\u001b[0;34m(\u001b[0m\u001b[0;36m1.5\u001b[0m\u001b[0;34m)\u001b[0m \u001b[0;31m# TypeError\u001b[0m\u001b[0;34m\u001b[0m\u001b[0;34m\u001b[0m\u001b[0m\n\u001b[0m",
      "\u001b[0;32m<ipython-input-5-726236b98796>\u001b[0m in \u001b[0;36m__init__\u001b[0;34m(self, velocity)\u001b[0m\n\u001b[1;32m      4\u001b[0m             \u001b[0;32mif\u001b[0m \u001b[0;32mnot\u001b[0m \u001b[0misinstance\u001b[0m\u001b[0;34m(\u001b[0m\u001b[0mvelocity\u001b[0m\u001b[0;34m,\u001b[0m \u001b[0mint\u001b[0m\u001b[0;34m)\u001b[0m\u001b[0;34m:\u001b[0m\u001b[0;34m\u001b[0m\u001b[0;34m\u001b[0m\u001b[0m\n\u001b[1;32m      5\u001b[0m                 \u001b[0mmessage\u001b[0m \u001b[0;34m=\u001b[0m \u001b[0;34m'{} is not supported'\u001b[0m\u001b[0;34m\u001b[0m\u001b[0;34m\u001b[0m\u001b[0m\n\u001b[0;32m----> 6\u001b[0;31m                 \u001b[0;32mraise\u001b[0m \u001b[0mTypeError\u001b[0m\u001b[0;34m(\u001b[0m\u001b[0mmessage\u001b[0m\u001b[0;34m.\u001b[0m\u001b[0mformat\u001b[0m\u001b[0;34m(\u001b[0m\u001b[0mtype\u001b[0m\u001b[0;34m(\u001b[0m\u001b[0mvelocity\u001b[0m\u001b[0;34m)\u001b[0m\u001b[0;34m)\u001b[0m\u001b[0;34m)\u001b[0m\u001b[0;34m\u001b[0m\u001b[0;34m\u001b[0m\u001b[0m\n\u001b[0m\u001b[1;32m      7\u001b[0m         \u001b[0mself\u001b[0m\u001b[0;34m.\u001b[0m\u001b[0mvelocity\u001b[0m \u001b[0;34m=\u001b[0m \u001b[0mvelocity\u001b[0m\u001b[0;34m\u001b[0m\u001b[0;34m\u001b[0m\u001b[0m\n\u001b[1;32m      8\u001b[0m \u001b[0;34m\u001b[0m\u001b[0m\n",
      "\u001b[0;31mTypeError\u001b[0m: <class 'float'> is not supported"
     ]
    }
   ],
   "source": [
    "class Vehicle:\n",
    "    def __init__(self, velocity):\n",
    "        if velocity is not None:\n",
    "            if not isinstance(velocity, int):\n",
    "                message = '{} is not supported'\n",
    "                raise TypeError(message.format(type(velocity)))\n",
    "        self.velocity = velocity\n",
    "\n",
    "    def __call__(self, veh):\n",
    "        self.velocity += veh.velocity\n",
    "        return self \n",
    "\n",
    "    def run(self):\n",
    "        raise NotImplementedError()\n",
    "\n",
    "\n",
    "class Car(Vehicle):\n",
    "    def run(self):\n",
    "        print('Run at {}.'.format(self.velocity))\n",
    "        self.velocity -= 1\n",
    "        if self.velocity > 0:\n",
    "            self.run()\n",
    "\n",
    "import numpy as np\n",
    "dat_list = [1.0, 2.0, 3.0]\n",
    "print(dat_list.pop())\n",
    "data = np.array(dat_list)\n",
    "print(np.ones_like(data))\n",
    "\n",
    "car = Car(10)\n",
    "car2 = Car(1.5) # TypeError"
   ]
  },
  {
   "cell_type": "markdown",
   "metadata": {},
   "source": [
    "### 「ステップ10 テストを行う」より\n",
    " - Python標準ライブラリの`unittest`でテストを行う。\n",
    " - `Car`クラスの関数をテストする場合`unittest`をインポートし、`unittest.TestCase`を継承する`CarTest`クラスにテストを実装する。テストは、名前が`test`ではじまる関数の中に書く。\n",
    " - `unittest`にはテスト用の関数`self.assertEqual`、`self.assertGreater`、`self.assertTrue`などが用意されている。\n",
    "   - 詳細は[unittest --- ユニットテストフレームワーク](https://docs.python.org/ja/3/library/unittest.html)を参照。\n",
    " - `python`コマンドに`-m unittest`引数を与えて、テストモードでPython ファイルを実行する。また、`discover`サブコマンドの後に指定したディレクトリからテストファイル（`test*.py`）を探索し、見つかったすべてのファイルをまとめて実行できる。\n",
    " - キィットキィトの`basic`リポジトリをダウンロード（`clone`）して`unittest`できる。説明はステップ23の解説で行う。\n",
    "\n",
    "```\n",
    "$ git clone https://github.com/qitqito/basic.git\n",
    "$ cd basic\n",
    "$ python -m unittest discover tests\n",
    "```\n",
    "\n",
    " - DeZeroのGitHubリポジトリは、[Travis CI](https://travis-ci.org/)という継続的インテグレーションのサービスと連携していて、DeZeroのGitHubリポジトリで、コードを`push`したり、`Pull Request`をマージしたりしたタイミングで、自動でテストが実行されるようになっているとのこと。キィットキィトもTravis CIと連携している。"
   ]
  },
  {
   "cell_type": "code",
   "execution_count": 6,
   "metadata": {},
   "outputs": [],
   "source": [
    "class Vehicle:\n",
    "    def __init__(self, velocity):\n",
    "        if velocity is not None:\n",
    "            if not isinstance(velocity, int):\n",
    "                raise TypeError('{} is not supported'.format(type(velocity)))\n",
    "        self.velocity = velocity\n",
    "\n",
    "    def __call__(self, vehicle):\n",
    "        self.velocity += vehicle.velocity\n",
    "        return self \n",
    "\n",
    "    def run(self):\n",
    "        raise NotImplementedError()\n",
    "\n",
    "\n",
    "class Car(Vehicle):\n",
    "    def run(self):\n",
    "        print('Run at {}.'.format(self.velocity))\n",
    "        self.velocity -= 1\n",
    "        if self.velocity > 0:\n",
    "            self.run()\n",
    "\n",
    "import unittest\n",
    "\n",
    "class CarTest(unittest.TestCase):\n",
    "    def test_run(self):\n",
    "        car = car(10)\n",
    "        self.assertEqual(car.velocity, 10)"
   ]
  }
 ],
 "metadata": {
  "kernelspec": {
   "display_name": "Python 3",
   "language": "python",
   "name": "python3"
  },
  "language_info": {
   "codemirror_mode": {
    "name": "ipython",
    "version": 3
   },
   "file_extension": ".py",
   "mimetype": "text/x-python",
   "name": "python",
   "nbconvert_exporter": "python",
   "pygments_lexer": "ipython3",
   "version": "3.7.7"
  }
 },
 "nbformat": 4,
 "nbformat_minor": 4
}
